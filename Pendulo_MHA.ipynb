{
 "cells": [
  {
   "cell_type": "markdown",
   "metadata": {},
   "source": [
    "# Laboratório do Pêndulo"
   ]
  },
  {
   "cell_type": "markdown",
   "metadata": {},
   "source": [
    "## Modelo PHET"
   ]
  },
  {
   "cell_type": "markdown",
   "metadata": {},
   "source": [
    "Simulação do Pêndulo utilizando o modelo do \"Pendulum Lab\" do PHET.\n",
    "Fonte: https://github.com/phetsims/pendulum-lab/blob/master/doc/model.md\n",
    "\n",
    "Notation:\n",
    "\n",
    "$θ$: Angle of the pendulum from the resting position, in radians.\n",
    "\n",
    "$ω$: Angular velocity of the pendulum, $ω = θ'$\n",
    "\n",
    "$v$: Velocity of the pendulum, $v = ω \\cdot L = θ' L$\n",
    "\n",
    "$m$: Mass of the pendulum, in kg.\n",
    "\n",
    "$g$: Acceleration due to gravity.\n",
    "\n",
    "$L$: Length of the pendulum.\n",
    "\n",
    "$c$: Drag coefficient\n",
    "\n",
    "Given $θ$ (the angle of the pendulum from the resting position, in radians), there are three forces that we consider:\n",
    "\n",
    "- Gravity ($mg$)\n",
    "\n",
    "- Tension (centripetal force, $mv^2/L$)\n",
    "\n",
    "- Drag ($c v^2 m^{2/3}$) http://fy.chalmers.se/~f7xiz/TIF081C/pendulum.pdf notes squared velocity due to Reynolds number surface area increases by $m^{2/3}$, and '$c$' is the drag coefficient\n",
    "\n",
    "The net tangential force $= -m g sin( θ ) - c v^2 m^{2/3}$\n",
    "$= -m g sin( θ ) - c L^2(θ')^2 m^{2/3}$ -- expansion of $v = θ' L$\n",
    "= $m * a_tangential$\n",
    "= $m * L * θ''$\n",
    "\n",
    "Rearranging results in the differential equation: $θ'' + ( c L (θ')^2/ m^{1/3} )  + (g/L) sin(θ) = 0$\n",
    "\n",
    "Which is then transformed into a system of differential equations and integrated with 4th order Runge Kutta (Scipy).\n",
    "\n",
    "Energy:\n",
    "\n",
    "Kinetic energy: $(1/2) m v^2 = 0.5 m (L ω)^2$\n",
    "\n",
    "Potential energy: Relative to the resting point of the mass, so our 'height' is $L (1 - cos(θ))$, with a resulting energy of $m g L (1 - cos(θ))$.\n",
    "\n",
    "Thermal energy: total - kinetic - potential.\n",
    "\n",
    "The 'step' button will move forward 10 milliseconds (0.01s).\n",
    "\n",
    "The Period Timer will time one period trace for a selected pendulum.\n",
    "\n",
    "The Return button will reset the position of the pendulum, but will not change any settings.\n",
    "\n",
    "Maximum Pendulum values:\n",
    "\n",
    "Length ( $0.10m < L < 1.00m$ )\n",
    "Mass ( $0.10kg < M < 1.50kg$ )\n",
    "Gravity ( $0.00m/ss < g < 25.00m/ss$)"
   ]
  },
  {
   "cell_type": "markdown",
   "metadata": {},
   "source": [
    "### Pêndulo simples"
   ]
  },
  {
   "cell_type": "code",
   "execution_count": 118,
   "metadata": {},
   "outputs": [],
   "source": [
    "from __future__ import print_function\n",
    "from ipywidgets import interact, interactive, fixed\n",
    "import ipywidgets as widgets\n",
    "from IPython.display import display\n",
    "import numpy as np\n",
    "import matplotlib.pyplot as plt\n",
    "from scipy import integrate\n"
   ]
  },
  {
   "cell_type": "code",
   "execution_count": 119,
   "metadata": {},
   "outputs": [],
   "source": [
    "def pendmodelphet(t,y,c,L,m,g):\n",
    "    theta, omega = y\n",
    "    dydt = [omega,\n",
    "            -c*L*omega*np.abs(omega)/m**(1/3)-g*np.sin(theta)/L]\n",
    "    return dydt"
   ]
  },
  {
   "cell_type": "code",
   "execution_count": 120,
   "metadata": {},
   "outputs": [],
   "source": [
    "def integ(g,L0,m,tsim,theta0,c):\n",
    "    theta0=theta0*np.pi/180\n",
    "    #Integração numérica das equações diferenciais\n",
    "    sol=integrate.solve_ivp(pendmodelphet, [0.0,tsim], [theta0,0.0], args=(c,L0,m,g),max_step=0.01)\n",
    "    #Calculo da energia mecânica e energia dissipada ao longo do tempo\n",
    "    v=sol.y[1,:]*L0 # velocidade linear na extremidade do pêndulo\n",
    "    h=(1.-np.abs(np.cos(sol.y[0,:])))*L0 # Altura do pendulo com relação ao ponto mais baixo\n",
    "\n",
    "    Emec=0.5*m*v**2+m*g*h # energia mecanica\n",
    "    Ediss=m*g*h[0]-Emec # energia dissipada\n",
    "    \n",
    "    if c==0:\n",
    "        Emec[:]=m*g*h[0]\n",
    "        Ediss[:]=0\n",
    "   \n",
    "    plt.rcParams['figure.dpi'] = 100.0  \n",
    "    plt.plot(sol.t, sol.y[0,:], label=\"L = \" + str(L0) + 'm') \n",
    "    plt.title('Theta vs time')\n",
    "    plt.xlabel('t (s)')\n",
    "    plt.ylabel(r'$\\theta$ (rad)')\n",
    "    plt.grid(True)\n",
    "    plt.legend()\n",
    "    plt.show()\n",
    "    plt.plot(sol.t, sol.y[1,:], label=\"L = \" + str(L0) + 'm') \n",
    "    plt.title('Angular velocity vs time')\n",
    "    plt.xlabel('t (s)')\n",
    "    plt.ylabel(r'$\\omega$ (rad/s)')\n",
    "    plt.grid(True)\n",
    "    plt.legend()\n",
    "    plt.show()\n",
    "    plt.plot(sol.t, Emec, label=\"L = \" + str(L0) + 'm') \n",
    "    plt.title('Energy vs time')\n",
    "    plt.xlabel('$t$ (s)')\n",
    "    plt.ylabel('$E_m$ (J)')\n",
    "    plt.grid(True)\n",
    "    plt.legend()\n",
    "    plt.show()\n",
    "    plt.plot(sol.t, Ediss, label=\"L = \" + str(L0) + 'm') \n",
    "    plt.title('Thermal energy vs time')\n",
    "    plt.xlabel('$t$ (s)')\n",
    "    plt.ylabel('$E_{diss}$ (J)')\n",
    "    plt.grid(True)\n",
    "    plt.legend()\n",
    "    plt.show()"
   ]
  },
  {
   "cell_type": "code",
   "execution_count": 121,
   "metadata": {},
   "outputs": [],
   "source": [
    "pendulo = interactive(integ, g = widgets.FloatSlider(min=0.0,max=30.,step=0.1,value=9.8,description='gravity ($m/s^2$)'), \n",
    "                          L0 = widgets.FloatSlider(min=0.2,max=1.,step=0.01,value=0.5,description='lenght (m)'),\n",
    "                          m = widgets.FloatSlider(min=0.5,max=10.,step=0.1,value=1.,description='mass (kg)'),   \n",
    "                          tsim = widgets.FloatSlider(min=2.,max=40.,step=1.,value=20.,description='time simul.'),\n",
    "                          theta0 = widgets.FloatSlider(min=1.,max=90.,step=1.,value=5.,description=r'$\\theta_0$'),\n",
    "                          c = widgets.FloatSlider(min=0,max=10.,step=0.1,value=0,description='drag resist.'))"
   ]
  },
  {
   "cell_type": "code",
   "execution_count": 122,
   "metadata": {},
   "outputs": [
    {
     "data": {
      "application/vnd.jupyter.widget-view+json": {
       "model_id": "2e3c9ff8f2e04da0b15b86978c44d5ec",
       "version_major": 2,
       "version_minor": 0
      },
      "text/plain": [
       "interactive(children=(FloatSlider(value=9.8, description='gravity ($m/s^2$)', max=30.0), FloatSlider(value=0.5…"
      ]
     },
     "metadata": {},
     "output_type": "display_data"
    }
   ],
   "source": [
    "display(pendulo)"
   ]
  },
  {
   "cell_type": "markdown",
   "metadata": {},
   "source": [
    "### Dois pêndulos simples"
   ]
  },
  {
   "cell_type": "code",
   "execution_count": 123,
   "metadata": {},
   "outputs": [],
   "source": [
    "def integ2(L1,L2,tsim,theta0,c):\n",
    "    theta0=theta0*np.pi/180\n",
    "    g=9.8\n",
    "    m=1\n",
    "    #Integração numérica das equações diferenciais\n",
    "    sol=integrate.solve_ivp(pendmodelphet, [0.0,tsim], [theta0,0.0], args=(c,L1,m,g),max_step=0.01)\n",
    "    sol2=integrate.solve_ivp(pendmodelphet, [0.0,tsim], [theta0,0.0], args=(c,L2,m,g),max_step=0.01)\n",
    "    #Calculo da energia mecânica e energia dissipada ao longo do tempo\n",
    "    v=sol.y[1,:]*L1 # velocidade linear na extremidade do pêndulo\n",
    "    h=(1.-np.abs(np.cos(sol.y[0,:])))*L1 # Altura do pendulo com relação ao ponto mais baixo\n",
    "    Emec=0.5*m*v**2+m*g*h # energia mecanica\n",
    "    Ediss=m*g*h[0]-Emec # energia dissipada\n",
    "    \n",
    "    v2=sol2.y[1,:]*L2 # velocidade linear na extremidade do pêndulo\n",
    "    h2=(1.-np.abs(np.cos(sol2.y[0,:])))*L2 # Altura do pendulo com relação ao ponto mais baixo\n",
    "    Emec2=0.5*m*v2**2+m*g*h2 # energia mecanica\n",
    "    Ediss2=m*g*h2[0]-Emec2 # energia dissipada\n",
    "    \n",
    "    if c==0:\n",
    "        Emec[:]=m*g*h[0]\n",
    "        Emec2[:]=m*g*h2[0]\n",
    "        Ediss[:]=0\n",
    "        Ediss2[:]=0\n",
    "    \n",
    "    plt.plot(sol.t, sol.y[0,:], label=\"L = \" + str(L1) + 'm') \n",
    "    plt.plot(sol2.t, sol2.y[0,:], label=\"L = \" + str(L2) + 'm')\n",
    "    plt.title('Theta vs time')\n",
    "    plt.xlabel('t (s)')\n",
    "    plt.ylabel(r'$\\theta$ (rad)')\n",
    "    plt.grid(True)\n",
    "    plt.legend()\n",
    "    plt.show()\n",
    "    plt.plot(sol.t, sol.y[1,:], label=\"L = \" + str(L1) + 'm')\n",
    "    plt.plot(sol2.t, sol2.y[1,:], label=\"L = \" + str(L2) + 'm') \n",
    "    plt.title('Angular velocity vs time')\n",
    "    plt.xlabel('t (s)')\n",
    "    plt.ylabel(r'$\\omega$ (rad/s)')\n",
    "    plt.grid(True)\n",
    "    plt.legend()\n",
    "    plt.show()\n",
    "    plt.plot(sol.t, Emec, label=\"L = \" + str(L1) + 'm')\n",
    "    plt.plot(sol2.t, Emec2, label=\"L = \" + str(L2) + 'm') \n",
    "    plt.title('Energy vs time')\n",
    "    plt.xlabel('t (s)')\n",
    "    plt.ylabel('$E_m$ (J)')\n",
    "    plt.grid(True)\n",
    "    plt.legend()\n",
    "    plt.show()\n",
    "    plt.plot(sol.t, Ediss, label=\"L = \" + str(L1) + 'm') \n",
    "    plt.plot(sol2.t, Ediss2, label=\"L = \" + str(L2) + 'm')\n",
    "    plt.title('Thermal energy vs time')\n",
    "    plt.xlabel('t (s)')\n",
    "    plt.ylabel('$E_{diss}$ (J)')\n",
    "    plt.grid(True)\n",
    "    plt.legend()\n",
    "    plt.show()"
   ]
  },
  {
   "cell_type": "code",
   "execution_count": 124,
   "metadata": {},
   "outputs": [],
   "source": [
    "pendulo2 = interactive(integ2, L1 = widgets.FloatSlider(min=0.2,max=1.,step=0.01,value=0.2),\n",
    "                          L2 = widgets.FloatSlider(min=0.2,max=1.,step=0.01,value=0.8),\n",
    "                          tsim = widgets.FloatSlider(min=2.,max=100.,step=1.,value=60.),\n",
    "                          theta0 = widgets.FloatSlider(min=1.,max=90.,step=1.,value=5.),\n",
    "                          c = widgets.FloatSlider(min=0.0,max=10.,step=0.1,value=5.0))"
   ]
  },
  {
   "cell_type": "code",
   "execution_count": 125,
   "metadata": {
    "scrolled": false
   },
   "outputs": [
    {
     "data": {
      "application/vnd.jupyter.widget-view+json": {
       "model_id": "7d9911d060a849acbf64a0b0e8a5d9e1",
       "version_major": 2,
       "version_minor": 0
      },
      "text/plain": [
       "interactive(children=(FloatSlider(value=0.2, description='L1', max=1.0, min=0.2, step=0.01), FloatSlider(value…"
      ]
     },
     "metadata": {},
     "output_type": "display_data"
    }
   ],
   "source": [
    "display(pendulo2)"
   ]
  },
  {
   "cell_type": "markdown",
   "metadata": {},
   "source": [
    "## Modelo de Força de arrasto proporcional à velocidade"
   ]
  },
  {
   "cell_type": "markdown",
   "metadata": {},
   "source": [
    "$θ$: Angle of the pendulum from the resting position, in radians.\n",
    "\n",
    "$ω$: Angular velocity of the pendulum, $ω = θ'$\n",
    "\n",
    "$v$: Velocity of the pendulum, $v = ω \\cdot L = θ' L$\n",
    "\n",
    "$m$: Mass of the pendulum, in kg.\n",
    "\n",
    "$g$: Acceleration due to gravity.\n",
    "\n",
    "$L$: Length of the pendulum.\n",
    "\n",
    "$b$: Drag coefficient\n",
    "\n",
    "Given $θ$ (the angle of the pendulum from the resting position, in radians), there are three forces that we consider:\n",
    "\n",
    "- Gravity ($mg$)\n",
    "\n",
    "- Tension (centripetal force, $mv^2/L$)\n",
    "\n",
    "- Drag ($b v$)\n",
    "\n",
    "The net tangential force $= -m g sin( θ ) - b v$\n",
    "$= -m g sin( θ ) - b L θ'$ -- expansion of $v = θ' L$\n",
    "= $m * a_tangential$\n",
    "= $m * L * θ''$\n",
    "\n",
    "Rearranging results in the differential equation: $θ'' + b θ'/m  + (g/L) sin(θ) = 0$\n",
    "\n",
    "Which is then transformed into a system of differential equations and integrated with 4th order Runge Kutta (Scipy).\n",
    "\n",
    "Energy:\n",
    "\n",
    "Kinetic energy: $(1/2) m v^2 = 0.5 m (L ω)^2$\n",
    "\n",
    "Potential energy: Relative to the resting point of the mass, so our 'height' is $L (1 - cos(θ))$, with a resulting energy of $m g L (1 - cos(θ))$.\n",
    "\n",
    "Thermal energy: total - kinetic - potential.\n",
    "\n",
    "The 'step' button will move forward 10 milliseconds (0.01s).\n",
    "\n",
    "The Period Timer will time one period trace for a selected pendulum.\n",
    "\n",
    "The Return button will reset the position of the pendulum, but will not change any settings.\n",
    "\n",
    "Maximum Pendulum values:\n",
    "\n",
    "Length ( $0.10m < L < 1.00m$ )\n",
    "Mass ( $0.10kg < M < 1.50kg$ )\n",
    "Gravity ( $0.00m/ss < g < 25.00m/ss$)"
   ]
  },
  {
   "cell_type": "markdown",
   "metadata": {},
   "source": [
    "### Dois pêndulos simples"
   ]
  },
  {
   "cell_type": "code",
   "execution_count": 126,
   "metadata": {},
   "outputs": [],
   "source": [
    "def pendmodelv(t,y,b,L,m,g):\n",
    "    theta, omega = y\n",
    "    dydt = [omega,\n",
    "            -b/m*omega*np.abs(omega)-g*np.sin(theta)/L]\n",
    "    return dydt"
   ]
  },
  {
   "cell_type": "code",
   "execution_count": 127,
   "metadata": {},
   "outputs": [],
   "source": [
    "def integ3(L1,L2,tsim,theta0,b):\n",
    "    theta0=theta0*np.pi/180\n",
    "    g=9.8\n",
    "    m=1\n",
    "    #Integração numérica das equações diferenciais\n",
    "    sol=integrate.solve_ivp(pendmodelv, [0.0,tsim], [theta0,0.0], args=(b,L1,m,g),max_step=0.01)\n",
    "    sol2=integrate.solve_ivp(pendmodelv, [0.0,tsim], [theta0,0.0], args=(b,L2,m,g),max_step=0.01)\n",
    "    #Calculo da energia mecânica e energia dissipada ao longo do tempo\n",
    "    v=sol.y[1,:]*L1 # velocidade linear na extremidade do pêndulo\n",
    "    h=(1.-np.abs(np.cos(sol.y[0,:])))*L1 # Altura do pendulo com relação ao ponto mais baixo\n",
    "    Emec=0.5*m*v**2+m*g*h # energia mecanica\n",
    "    Ediss=m*g*h[0]-Emec # energia dissipada\n",
    "    \n",
    "    v2=sol2.y[1,:]*L2 # velocidade linear na extremidade do pêndulo\n",
    "    h2=(1.-np.abs(np.cos(sol2.y[0,:])))*L2 # Altura do pendulo com relação ao ponto mais baixo\n",
    "    Emec2=0.5*m*v2**2+m*g*h2 # energia mecanica\n",
    "    Ediss2=m*g*h2[0]-Emec2 # energia dissipada\n",
    "    \n",
    "    if b==0:\n",
    "        Emec[:]=m*g*h[0]\n",
    "        Emec2[:]=m*g*h2[0]\n",
    "        Ediss[:]=0\n",
    "        Ediss2[:]=0\n",
    "    \n",
    "    \n",
    "    plt.rcParams['figure.dpi'] = 100.0    \n",
    "    plt.plot(sol.t, sol.y[0,:], label=\"L = \" + str(L1) + 'm') \n",
    "    plt.plot(sol2.t, sol2.y[0,:], label=\"L = \" + str(L2) + 'm')\n",
    "    plt.title('Theta vs time')\n",
    "    plt.xlabel('t (s)')\n",
    "    plt.ylabel(r'$\\theta$ (rad)')\n",
    "    plt.grid(True)\n",
    "    plt.legend()\n",
    "    plt.show()\n",
    "    plt.plot(sol.t, sol.y[1,:], label=\"L = \" + str(L1) + 'm')\n",
    "    plt.plot(sol2.t, sol2.y[1,:], label=\"L = \" + str(L2) + 'm') \n",
    "    plt.title('Angular velocity vs time')\n",
    "    plt.xlabel('t (s)')\n",
    "    plt.ylabel(r'$\\omega$ (rad/s)')\n",
    "    plt.grid(True)\n",
    "    plt.legend()\n",
    "    plt.show()\n",
    "    plt.plot(sol.t, Emec, label=\"L = \" + str(L1) + 'm')\n",
    "    plt.plot(sol2.t, Emec2, label=\"L = \" + str(L2) + 'm') \n",
    "    plt.title('Energy vs time')\n",
    "    plt.xlabel('t (s)')\n",
    "    plt.ylabel('$E_m$ (J)')\n",
    "    plt.grid(True)\n",
    "    plt.legend()\n",
    "    plt.show()\n",
    "    plt.plot(sol.t, Ediss, label=\"L = \" + str(L1) + 'm') \n",
    "    plt.plot(sol2.t, Ediss2, label=\"L = \" + str(L2) + 'm')\n",
    "    plt.title('Thermal energy vs time')\n",
    "    plt.xlabel('t (s)')\n",
    "    plt.ylabel('$E_{diss}$ (J)')\n",
    "    plt.grid(True)\n",
    "    plt.legend()\n",
    "    plt.show()"
   ]
  },
  {
   "cell_type": "code",
   "execution_count": 128,
   "metadata": {},
   "outputs": [],
   "source": [
    "pendulo3 = interactive(integ3, L1 = widgets.FloatSlider(min=0.2,max=1.,step=0.01,value=0.2),\n",
    "                          L2 = widgets.FloatSlider(min=0.2,max=1.,step=0.01,value=0.8),\n",
    "                          tsim = widgets.FloatSlider(min=2.,max=100.,step=1.,value=60.),\n",
    "                          theta0 = widgets.FloatSlider(min=1.,max=90.,step=1.,value=5.),\n",
    "                          b = widgets.FloatSlider(min=0.0,max=10.,step=0.1,value=4.0))"
   ]
  },
  {
   "cell_type": "code",
   "execution_count": 129,
   "metadata": {},
   "outputs": [
    {
     "data": {
      "application/vnd.jupyter.widget-view+json": {
       "model_id": "411055390dfb439297016a08856b1e8f",
       "version_major": 2,
       "version_minor": 0
      },
      "text/plain": [
       "interactive(children=(FloatSlider(value=0.2, description='L1', max=1.0, min=0.2, step=0.01), FloatSlider(value…"
      ]
     },
     "metadata": {},
     "output_type": "display_data"
    }
   ],
   "source": [
    "display(pendulo3)"
   ]
  }
 ],
 "metadata": {
  "kernelspec": {
   "display_name": "Python 3",
   "language": "python",
   "name": "python3"
  },
  "language_info": {
   "codemirror_mode": {
    "name": "ipython",
    "version": 3
   },
   "file_extension": ".py",
   "mimetype": "text/x-python",
   "name": "python",
   "nbconvert_exporter": "python",
   "pygments_lexer": "ipython3",
   "version": "3.7.6"
  }
 },
 "nbformat": 4,
 "nbformat_minor": 4
}
